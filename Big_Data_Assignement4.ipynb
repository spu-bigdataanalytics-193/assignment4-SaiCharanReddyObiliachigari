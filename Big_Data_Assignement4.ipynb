{
 "cells": [
  {
   "cell_type": "code",
   "execution_count": 0,
   "metadata": {
    "colab": {},
    "colab_type": "code",
    "id": "jd8C_On_WMgl"
   },
   "outputs": [],
   "source": [
    "# install java libs and spark\n",
    "! apt-get install openjdk-8-jdk-headless -qq > /dev/null\n",
    "! wget -q https://www-us.apache.org/dist/spark/spark-2.4.4/spark-2.4.4-bin-hadoop2.7.tgz\n",
    "! tar xf spark-2.4.4-bin-hadoop2.7.tgz\n",
    "! pip install -q findspark\n",
    "import os\n",
    "os.environ[\"JAVA_HOME\"] = \"/usr/lib/jvm/java-8-openjdk-amd64\"\n",
    "os.environ[\"SPARK_HOME\"] = \"/content/spark-2.4.4-bin-hadoop2.7\"\n",
    "\n",
    "\n"
   ]
  },
  {
   "cell_type": "code",
   "execution_count": 0,
   "metadata": {
    "colab": {
     "base_uri": "https://localhost:8080/",
     "height": 54
    },
    "colab_type": "code",
    "id": "96Oen2zAZLMs",
    "outputId": "ae372feb-ebe0-41ea-bb62-76a8c141f1ce"
   },
   "outputs": [
    {
     "name": "stdout",
     "output_type": "stream",
     "text": [
      "Drive already mounted at /content/gdrive; to attempt to forcibly remount, call drive.mount(\"/content/gdrive\", force_remount=True).\n"
     ]
    }
   ],
   "source": [
    "# Installing saprk\n",
    "\n",
    "import findspark\n",
    "\n",
    "findspark.init()\n",
    "\n",
    "from pyspark.sql import SparkSession\n",
    "spark = SparkSession.builder \\\n",
    "   .master(\"Local[*]\") \\\n",
    "   .appName(\"Learning_Spark\") \\\n",
    "   .getOrCreate()\n",
    "\n",
    "\n",
    "# Accessing to google drive\n",
    "from google.colab import drive\n",
    "drive.mount('/content/gdrive')\n",
    "\n",
    "\n"
   ]
  },
  {
   "cell_type": "code",
   "execution_count": 0,
   "metadata": {
    "colab": {},
    "colab_type": "code",
    "id": "_FJ1eBQGJ96l"
   },
   "outputs": [],
   "source": []
  },
  {
   "cell_type": "code",
   "execution_count": 0,
   "metadata": {
    "colab": {
     "base_uri": "https://localhost:8080/",
     "height": 54
    },
    "colab_type": "code",
    "id": "uqrpdkUgZjRt",
    "outputId": "99331378-05bb-411d-8e99-cf9968cb53f6"
   },
   "outputs": [
    {
     "data": {
      "text/plain": [
       "['Year,Month,DayofMonth,DayOfWeek,DepTime,CRSDepTime,ArrTime,CRSArrTime,UniqueCarrier,FlightNum,TailNum,ActualElapsedTime,CRSElapsedTime,AirTime,ArrDelay,DepDelay,Origin,Dest,Distance,TaxiIn,TaxiOut,Cancelled,CancellationCode,Diverted,CarrierDelay,WeatherDelay,NASDelay,SecurityDelay,LateAircraftDelay']"
      ]
     },
     "execution_count": 51,
     "metadata": {
      "tags": []
     },
     "output_type": "execute_result"
    }
   ],
   "source": [
    "spark = SparkSession.builder.appName(\"Learning_Spark\").master(\"Local[*]\").getOrCreate()\n",
    "\n",
    "\n",
    "s = spark.sparkContext\n",
    "rd = sc.textFile('/content/gdrive/My Drive/Map_reduce/*.csv.bz2')\n",
    "rd.take(1)\n"
   ]
  },
  {
   "cell_type": "code",
   "execution_count": 0,
   "metadata": {
    "colab": {},
    "colab_type": "code",
    "id": "aoTOPkc0ZqAO"
   },
   "outputs": [],
   "source": [
    "# Map reduce alogorithm\n",
    "\n",
    "rd1 = rd.map(lambda x: x.split(',')[8]).filter(lambda x : 'UniqueCarrier' not in x)\n",
    "\n"
   ]
  },
  {
   "cell_type": "code",
   "execution_count": 0,
   "metadata": {
    "colab": {},
    "colab_type": "code",
    "id": "wd1-yK9rZy-W"
   },
   "outputs": [],
   "source": [
    "rd2 = rd1.map(lambda x:(x,1))\n",
    "\n",
    "\n",
    "\n",
    "rd3 = rd2.reduceByKey(lambda x,y: x+y)\n",
    "\n",
    "\n"
   ]
  },
  {
   "cell_type": "code",
   "execution_count": 0,
   "metadata": {
    "colab": {
     "base_uri": "https://localhost:8080/",
     "height": 510
    },
    "colab_type": "code",
    "id": "fRQgBe7HZ2ox",
    "outputId": "e9937468-9eba-47d8-ae51-2e559aa321e8"
   },
   "outputs": [
    {
     "data": {
      "text/plain": [
       "[('MQ', 3954895),\n",
       " ('PI', 873957),\n",
       " ('XE', 2350309),\n",
       " ('AQ', 154381),\n",
       " ('AA', 14984647),\n",
       " ('PS', 83617),\n",
       " ('AS', 2878021),\n",
       " ('DL', 16547870),\n",
       " ('UA', 13299817),\n",
       " ('FL', 1265138),\n",
       " ('NW', 10292627),\n",
       " ('DH', 693047),\n",
       " ('EA', 919785),\n",
       " ('HA', 274265),\n",
       " ('F9', 336958),\n",
       " ('WN', 15976022),\n",
       " ('PA (1)', 316167),\n",
       " ('US', 14075530),\n",
       " ('OO', 3090853),\n",
       " ('CO', 8145788),\n",
       " ('HP', 3636682),\n",
       " ('OH', 1464176),\n",
       " ('B6', 811341),\n",
       " ('TZ', 208420),\n",
       " ('ML (1)', 70622),\n",
       " ('YV', 854056),\n",
       " ('EV', 1697172),\n",
       " ('9E', 521059),\n",
       " ('TW', 3757747)]"
      ]
     },
     "execution_count": 64,
     "metadata": {
      "tags": []
     },
     "output_type": "execute_result"
    }
   ],
   "source": [
    "rd3.take(30)\n",
    "\n",
    "\n",
    "\n"
   ]
  },
  {
   "cell_type": "code",
   "execution_count": 0,
   "metadata": {
    "colab": {},
    "colab_type": "code",
    "id": "vZsEmSmp3G9f"
   },
   "outputs": [],
   "source": []
  },
  {
   "cell_type": "code",
   "execution_count": 0,
   "metadata": {
    "colab": {},
    "colab_type": "code",
    "id": "mW7sr-x03Ktl"
   },
   "outputs": [],
   "source": []
  }
 ],
 "metadata": {
  "colab": {
   "collapsed_sections": [],
   "name": "610_Assignement4",
   "provenance": []
  },
  "kernelspec": {
   "display_name": "Python 3",
   "language": "python",
   "name": "python3"
  },
  "language_info": {
   "codemirror_mode": {
    "name": "ipython",
    "version": 3
   },
   "file_extension": ".py",
   "mimetype": "text/x-python",
   "name": "python",
   "nbconvert_exporter": "python",
   "pygments_lexer": "ipython3",
   "version": "3.7.4"
  }
 },
 "nbformat": 4,
 "nbformat_minor": 1
}
